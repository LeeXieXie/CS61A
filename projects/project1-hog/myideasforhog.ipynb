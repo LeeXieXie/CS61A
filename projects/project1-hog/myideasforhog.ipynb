{
 "cells": [
  {
   "cell_type": "markdown",
   "source": [
    "## Q1 roll_dice\n",
    "最主要是把握出现1的情况，不论前面掷出多大的点数，只要出现1，那当前玩家的分数只能是1，所以设置一个flag用来标记是否出现1"
   ],
   "metadata": {
    "collapsed": false
   }
  },
  {
   "cell_type": "code",
   "execution_count": null,
   "outputs": [],
   "source": [
    "# BEGIN PROBLEM 1\n",
    "    \"*** YOUR CODE HERE ***\"\n",
    "    score = 0\n",
    "    hog_flag = False\n",
    "    for i in range(0, num_rolls):\n",
    "        side = dice()\n",
    "        if side == 1:\n",
    "            hog_flag = True\n",
    "        else:\n",
    "            score += side\n",
    "    return (hog_flag and 1) or score\n",
    "    # END PROBLEM 1"
   ],
   "metadata": {
    "collapsed": false
   }
  },
  {
   "cell_type": "markdown",
   "source": [
    "## Q2 free_bacon\n",
    "基于规则，我们只需要找出当前分数所对应的pi中的位置，例子，score = 0，当前分数对应于pi(3.1415926...)的3；score = 1，当前分数对应于pi(3.1415926...)的1；score = 2，当前分数对应于pi(3.1415926...)的4；score = 3，当前分数对应于pi(3.1415926...)的1；score = 4，当前分数对应于pi(3.1415926...)的5；score = 5，当前分数对应于pi(3.1415926...)的9。但是由于他给我们的是把pi转换为了整数，所以我们需要知道当前的pi的长度可通过len(str(pi))得到，然后根据所给的分数找出相对应的位置。"
   ],
   "metadata": {
    "collapsed": false
   }
  },
  {
   "cell_type": "code",
   "execution_count": null,
   "outputs": [],
   "source": [
    "# BEGIN PROBLEM 2\n",
    "    \"*** YOUR CODE HERE ***\"\n",
    "    if score == 0:\n",
    "        pi = 3\n",
    "    else:\n",
    "        length = len(str(pi))\n",
    "        pi = pi // (10 ** (length - score - 1))\n",
    "    # END PROBLEM 2"
   ],
   "metadata": {
    "collapsed": false
   }
  },
  {
   "cell_type": "markdown",
   "source": [
    "## Q3 take_turn\n",
    "没啥可说的，直接写就行了"
   ],
   "metadata": {
    "collapsed": false
   }
  },
  {
   "cell_type": "code",
   "execution_count": null,
   "outputs": [],
   "source": [
    "  # BEGIN PROBLEM 3\n",
    "    \"*** YOUR CODE HERE ***\"\n",
    "    if num_rolls == 0:\n",
    "        return free_bacon(opponent_score)\n",
    "    else:\n",
    "        return roll_dice(num_rolls, dice)\n",
    "    # END PROBLEM 3"
   ],
   "metadata": {
    "collapsed": false
   }
  },
  {
   "cell_type": "markdown",
   "source": [
    "## Q4a swine_align\n",
    "一句话就是：当前分数只要存在一个为0，返回false，当前分数的最大公因数如果大于等于10，返回True，否则返回False。"
   ],
   "metadata": {
    "collapsed": false
   }
  },
  {
   "cell_type": "code",
   "execution_count": null,
   "outputs": [],
   "source": [
    "    # BEGIN PROBLEM 4a\n",
    "    \"*** YOUR CODE HERE ***\"\n",
    "    if player_score == 0 | opponent_score == 0:\n",
    "        return False\n",
    "    else:\n",
    "        mutex = 1\n",
    "        for i in range(min(player_score, opponent_score) + 1, 2, -1):\n",
    "            if player_score % i == 0 and opponent_score % i == 0:\n",
    "                mutex *= i\n",
    "                player_score //= i\n",
    "                opponent_score //= i\n",
    "        if mutex < 10:\n",
    "            return False\n",
    "        else:\n",
    "            return True\n",
    "    # END PROBLEM 4a"
   ],
   "metadata": {
    "collapsed": false
   }
  }
 ],
 "metadata": {
  "kernelspec": {
   "display_name": "Python 3",
   "language": "python",
   "name": "python3"
  },
  "language_info": {
   "codemirror_mode": {
    "name": "ipython",
    "version": 2
   },
   "file_extension": ".py",
   "mimetype": "text/x-python",
   "name": "python",
   "nbconvert_exporter": "python",
   "pygments_lexer": "ipython2",
   "version": "2.7.6"
  }
 },
 "nbformat": 4,
 "nbformat_minor": 0
}
