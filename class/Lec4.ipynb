{
 "cells": [
  {
   "cell_type": "code",
   "execution_count": 3,
   "metadata": {
    "ExecuteTime": {
     "end_time": "2023-04-04T16:09:53.043034Z",
     "start_time": "2023-04-04T16:09:53.011025Z"
    }
   },
   "outputs": [],
   "source": [
    "def search(f):\n",
    "    x = 0\n",
    "    while True:\n",
    "        if f(x):\n",
    "            return x\n",
    "        x += 1\n",
    "\n",
    "def is_three(x):\n",
    "    return x == 3\n",
    "\n",
    "def square(x):\n",
    "    return x * x\n",
    "\n",
    "def positive(x):\n",
    "    return max(0, square(x) - x)\n",
    "\n",
    "def inverse(f):\n",
    "    \"\"\"Return g(y) such that g(f(x)) -> x.\"\"\"\n",
    "    return lambda y: search(lambda x: f(x) == y)"
   ]
  },
  {
   "cell_type": "code",
   "execution_count": 5,
   "metadata": {},
   "outputs": [
    {
     "ename": "TypeError",
     "evalue": "'int' object is not callable",
     "output_type": "error",
     "traceback": [
      "\u001B[1;31m---------------------------------------------------------------------------\u001B[0m",
      "\u001B[1;31mTypeError\u001B[0m                                 Traceback (most recent call last)",
      "Cell \u001B[1;32mIn[5], line 1\u001B[0m\n\u001B[1;32m----> 1\u001B[0m \u001B[43msearch\u001B[49m\u001B[43m(\u001B[49m\u001B[43msquare\u001B[49m\u001B[43m(\u001B[49m\u001B[38;5;241;43m4\u001B[39;49m\u001B[43m)\u001B[49m\u001B[43m)\u001B[49m\n",
      "Cell \u001B[1;32mIn[3], line 4\u001B[0m, in \u001B[0;36msearch\u001B[1;34m(f)\u001B[0m\n\u001B[0;32m      2\u001B[0m x \u001B[38;5;241m=\u001B[39m \u001B[38;5;241m0\u001B[39m\n\u001B[0;32m      3\u001B[0m \u001B[38;5;28;01mwhile\u001B[39;00m \u001B[38;5;28;01mTrue\u001B[39;00m:\n\u001B[1;32m----> 4\u001B[0m     \u001B[38;5;28;01mif\u001B[39;00m \u001B[43mf\u001B[49m\u001B[43m(\u001B[49m\u001B[43mx\u001B[49m\u001B[43m)\u001B[49m:\n\u001B[0;32m      5\u001B[0m         \u001B[38;5;28;01mreturn\u001B[39;00m x\n\u001B[0;32m      6\u001B[0m     x \u001B[38;5;241m+\u001B[39m\u001B[38;5;241m=\u001B[39m \u001B[38;5;241m1\u001B[39m\n",
      "\u001B[1;31mTypeError\u001B[0m: 'int' object is not callable"
     ]
    }
   ],
   "source": [
    "sqrt = inverse(square)"
   ]
  },
  {
   "cell_type": "markdown",
   "source": [
    "make_adder(1) (2)\n",
    "-----------------\n",
    "f             (2)\n",
    "-----------------\n",
    "若 make_adder 返回 数字，那么会报错"
   ],
   "metadata": {
    "collapsed": false
   }
  },
  {
   "cell_type": "code",
   "execution_count": null,
   "outputs": [],
   "source": [
    "def make_adder(x):\n",
    "    def adder(y):\n",
    "        return x + y\n",
    "\n",
    "    return adder(x) # 错误的写法，返回数字"
   ],
   "metadata": {
    "collapsed": false
   }
  },
  {
   "cell_type": "markdown",
   "source": [
    "正确的写法"
   ],
   "metadata": {
    "collapsed": false
   }
  },
  {
   "cell_type": "code",
   "execution_count": null,
   "outputs": [],
   "source": [
    "def make_adder(x):\n",
    "    def adder(y):\n",
    "        return x + y\n",
    "\n",
    "    return adder # 正确的写法，返回函数\n",
    "\n",
    "make_adder(1)(2)"
   ],
   "metadata": {
    "collapsed": false
   }
  },
  {
   "cell_type": "code",
   "execution_count": 1,
   "outputs": [
    {
     "data": {
      "text/plain": "3"
     },
     "execution_count": 1,
     "metadata": {},
     "output_type": "execute_result"
    }
   ],
   "source": [
    "g = lambda x: lambda y: x + y\n",
    "g(1)(2)"
   ],
   "metadata": {
    "collapsed": false,
    "ExecuteTime": {
     "start_time": "2023-04-09T15:27:03.326318Z",
     "end_time": "2023-04-09T15:27:03.353735Z"
    }
   }
  },
  {
   "cell_type": "code",
   "execution_count": 4,
   "outputs": [
    {
     "name": "stdout",
     "output_type": "stream",
     "text": [
      "3.0\n"
     ]
    }
   ],
   "source": [
    "def average(x, y):\n",
    "    return (x + y) / 2\n",
    "\n",
    "def improve(sqrt_update, sqrt_close, guess=1):\n",
    "    while not sqrt_close(guess):\n",
    "        guess = sqrt_update(guess)\n",
    "    return guess\n",
    "\n",
    "def approx_eq(x, y, tolerance=1e-15):\n",
    "    return abs(x - y) < tolerance\n",
    "\n",
    "def sqrt(x):\n",
    "    def sqrt_update(guess):\n",
    "        return average(guess, x / guess)\n",
    "\n",
    "    def sqrt_close(guess):\n",
    "        return approx_eq(guess * guess, x)\n",
    "\n",
    "    return improve(sqrt_update, sqrt_close)\n",
    "\n",
    "result = sqrt(9)\n",
    "print(result)"
   ],
   "metadata": {
    "collapsed": false,
    "ExecuteTime": {
     "start_time": "2023-04-09T15:29:42.519127Z",
     "end_time": "2023-04-09T15:29:42.533743Z"
    }
   }
  },
  {
   "cell_type": "code",
   "execution_count": null,
   "outputs": [],
   "source": [],
   "metadata": {
    "collapsed": false
   }
  }
 ],
 "metadata": {
  "kernelspec": {
   "display_name": "Python 3 (ipykernel)",
   "language": "python",
   "name": "python3"
  },
  "language_info": {
   "codemirror_mode": {
    "name": "ipython",
    "version": 3
   },
   "file_extension": ".py",
   "mimetype": "text/x-python",
   "name": "python",
   "nbconvert_exporter": "python",
   "pygments_lexer": "ipython3",
   "version": "3.9.13"
  }
 },
 "nbformat": 4,
 "nbformat_minor": 1
}
