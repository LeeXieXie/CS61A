{
 "cells": [
  {
   "cell_type": "code",
   "execution_count": 1,
   "metadata": {
    "collapsed": true
   },
   "outputs": [],
   "source": [
    "from math import sqrt\n",
    "\n",
    "def real_sqrt(x):\n",
    "    \"\"\"Return the real part of the square root of x.\n",
    "\n",
    "    >>> real_sqrt(4)\n",
    "    2.0\n",
    "    >>> real_sqrt(-4)\n",
    "    0.0\n",
    "    \"\"\"\n",
    "    if x > 0:\n",
    "        return sqrt(x)\n",
    "    else:\n",
    "        return 0.0"
   ]
  },
  {
   "cell_type": "code",
   "execution_count": 5,
   "outputs": [
    {
     "data": {
      "text/plain": "2.8284271247461903"
     },
     "execution_count": 5,
     "metadata": {},
     "output_type": "execute_result"
    }
   ],
   "source": [
    "real_sqrt(8)"
   ],
   "metadata": {
    "collapsed": false
   }
  },
  {
   "cell_type": "code",
   "execution_count": 6,
   "outputs": [],
   "source": [
    "def prime_factor(n):\n",
    "    \"\"\"Print the prime factors of n.\n",
    "\n",
    "    >>> prime_factor(8)\n",
    "    2\n",
    "    2\n",
    "    2\n",
    "    >>> prime_factor(9)\n",
    "    3\n",
    "    3\n",
    "    >>> prime_factor(10)\n",
    "    2\n",
    "    5\n",
    "    >>> prime_factor(11)\n",
    "    11\n",
    "    >>> prime_factor(12)\n",
    "    2\n",
    "    2\n",
    "    3\n",
    "    >>> prime_factor(858)\n",
    "    2\n",
    "    3\n",
    "    143\n",
    "    \"\"\"\n",
    "\n",
    "    while n > 1:\n",
    "        k = smallest_prime_factor(n)\n",
    "        n = n // k\n",
    "        print(k)\n",
    "\n",
    "def smallest_prime_factor(n):\n",
    "    \"\"\"Return the smallest k > 1 that divides n evenly.\"\"\"\n",
    "    k = 2\n",
    "    while n % k != 0:\n",
    "        k = k + 1\n",
    "    return k"
   ],
   "metadata": {
    "collapsed": false
   }
  },
  {
   "cell_type": "code",
   "execution_count": 7,
   "outputs": [
    {
     "name": "stdout",
     "output_type": "stream",
     "text": [
      "2\n",
      "2\n",
      "2\n"
     ]
    }
   ],
   "source": [
    "prime_factor(8)"
   ],
   "metadata": {
    "collapsed": false
   }
  },
  {
   "cell_type": "code",
   "execution_count": 8,
   "outputs": [
    {
     "name": "stdout",
     "output_type": "stream",
     "text": [
      "11\n"
     ]
    }
   ],
   "source": [
    "prime_factor(11)"
   ],
   "metadata": {
    "collapsed": false
   }
  },
  {
   "cell_type": "code",
   "execution_count": null,
   "outputs": [],
   "source": [],
   "metadata": {
    "collapsed": false
   }
  }
 ],
 "metadata": {
  "kernelspec": {
   "display_name": "Python 3",
   "language": "python",
   "name": "python3"
  },
  "language_info": {
   "codemirror_mode": {
    "name": "ipython",
    "version": 2
   },
   "file_extension": ".py",
   "mimetype": "text/x-python",
   "name": "python",
   "nbconvert_exporter": "python",
   "pygments_lexer": "ipython2",
   "version": "2.7.6"
  }
 },
 "nbformat": 4,
 "nbformat_minor": 0
}
