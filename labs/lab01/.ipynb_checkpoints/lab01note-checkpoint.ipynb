{
 "cells": [
  {
   "cell_type": "markdown",
   "metadata": {},
   "source": [
    "# Using Python\n",
    "When running a Python file, you can use options on the command line to inspect your code further. Here are a few that will come in handy. If you want to learn more about other Python command-line options, take a look at the documentation.\n",
    "\n",
    "- Using no command-line options will run the code in the file you provide and return you to the command line. For example, if we want to run lab00.py this way, we would write in the terminal:\n",
    "\n",
    "```Python\n",
    " python lab00.py\n",
    "```\n",
    "\n",
    "- -i: The -i option runs your Python script, then opens an interactive session. In an interactive session, you run Python code line by line and get immediate feedback instead of running an entire file all at once. To exit, type exit() into the interpreter prompt. You can also use the keyboard shortcut Ctrl-D on Linux/Mac machines or Ctrl-Z Enter on Windows.\n",
    "\n",
    "If you edit the Python file while running it interactively, you will need to exit and restart the interpreter in order for those changes to take effect.\n",
    "\n",
    "Here's how we can run lab00.py interactively:\n",
    "\n",
    "python3 -i lab00.py\n",
    "-m doctest: Runs doctests in a particular file. Doctests are surrounded by triple quotes (\"\"\") within functions.\n",
    "\n",
    "Each test in the file consists of >>> followed by some Python code and the expected output (though the >>> are not seen in the output of the doctest command).\n",
    "\n",
    "To run doctests for lab00.py, we can run:\n",
    "\n",
    " python3 -m doctest lab00.py"
   ]
  },
  {
   "cell_type": "code",
   "execution_count": null,
   "metadata": {},
   "outputs": [],
   "source": []
  },
  {
   "cell_type": "markdown",
   "metadata": {},
   "source": []
  },
  {
   "cell_type": "code",
   "execution_count": null,
   "metadata": {},
   "outputs": [],
   "source": []
  }
 ],
 "metadata": {
  "kernelspec": {
   "display_name": "Python 3 (ipykernel)",
   "language": "python",
   "name": "python3"
  },
  "language_info": {
   "codemirror_mode": {
    "name": "ipython",
    "version": 3
   },
   "file_extension": ".py",
   "mimetype": "text/x-python",
   "name": "python",
   "nbconvert_exporter": "python",
   "pygments_lexer": "ipython3",
   "version": "3.11.2"
  }
 },
 "nbformat": 4,
 "nbformat_minor": 1
}
